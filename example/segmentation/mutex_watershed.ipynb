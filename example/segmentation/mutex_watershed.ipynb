{
 "cells": [
  {
   "cell_type": "markdown",
   "metadata": {},
   "source": [
    "# Mutex Watershed\n",
    "\n",
    "Use the `elf.segmentation` module for boundary based segmentation with the mutex watershed algorithm: [The Mutex Watershed: Efficent, Parameter-Free Image Partitionong](http://openaccess.thecvf.com/content_ECCV_2018/html/Steffen_Wolf_The_Mutex_Watershed_ECCV_2018_paper.html).\n",
    "We use data from the paper based on the [ISBI 2012 EM Segmentation challenge](http://brainiac2.mit.edu/isbi_challenge/home).\n",
    "You can obtain this data [here](https://hcicloud.iwr.uni-heidelberg.de/index.php/s/6LuE7nxBN3EFRtL).\n",
    "\n",
    "The mutex watershed can operate directly on pixel affinity maps.\n",
    "It produces a segmentation by partitioning the grid graph, taking into acount long range pixel connections. This is achieved by greedily connecting pixels that are joined by a path of local affinity edges **unless** there exists a long range edge that prevents this join.\n",
    "\n",
    "In addition to the default elf dependencies, you will need to install [affogato](https://github.com/constantinpape/affogato) to run this example."
   ]
  },
  {
   "cell_type": "markdown",
   "metadata": {},
   "source": [
    "## Preparation"
   ]
  },
  {
   "cell_type": "code",
   "execution_count": null,
   "metadata": {},
   "outputs": [],
   "source": [
    "%gui qt5 \n",
    "import numpy as np\n",
    "\n",
    "# import napari for data visualisation\n",
    "import napari\n",
    "\n",
    "# import the segmentation functionality from elf\n",
    "import elf.segmentation.mutex_watershed as mws\n",
    "from elf.segmentation.utils import load_mutex_watershed_problem\n",
    "\n",
    "# import the open_file function from elf, which supports opening files\n",
    "# in hdf5, zarr, n5 or knossos file format\n",
    "from elf.io import open_file"
   ]
  },
  {
   "cell_type": "code",
   "execution_count": null,
   "metadata": {},
   "outputs": [],
   "source": [
    "# download the example data\n",
    "prefix = \"isbi-data-\"\n",
    "data_path = f\"{prefix}test.h5\"\n",
    "affs, offsets = load_mutex_watershed_problem(prefix=prefix)\n",
    "with open_file(data_path, 'r') as f:\n",
    "    # load the raw data in addition\n",
    "    raw = f['raw'][:]"
   ]
  },
  {
   "cell_type": "markdown",
   "metadata": {},
   "source": [
    "## Segment via mutex watershed"
   ]
  },
  {
   "cell_type": "code",
   "execution_count": null,
   "metadata": {},
   "outputs": [],
   "source": [
    "# set additional parameters for the mutex watershed\n",
    "\n",
    "# The strides are used to sub-sample the long range edges, which are used for repulsive\n",
    "# connections in the mutex watershed.\n",
    "# This reduces the runtime and is ok, because we have more long range then local affinity channels.\n",
    "strides = [1, 10, 10]\n",
    "\n",
    "# if randomize_strides is True, the sub-sampling of long-range edges is done at random.\n",
    "# this usually improves resutls by avoiding sampling artefacts, but it makes the result\n",
    "# not fully reproducible\n",
    "randomize_strides = True"
   ]
  },
  {
   "cell_type": "code",
   "execution_count": null,
   "metadata": {},
   "outputs": [],
   "source": [
    "# run the algorithm\n",
    "segmentation = mws.mutex_watershed(affs, offsets, strides,\n",
    "                                   randomize_strides=True)"
   ]
  },
  {
   "cell_type": "code",
   "execution_count": null,
   "metadata": {},
   "outputs": [],
   "source": [
    "viewer = napari.Viewer()\n",
    "viewer.add_image(raw, name='raw')\n",
    "viewer.add_image(affs, name='affinities')\n",
    "viewer.add_labels(segmentation, name='mws-segmentation')"
   ]
  },
  {
   "cell_type": "markdown",
   "metadata": {},
   "source": [
    "## Block-wise MWS\n",
    "\n",
    "There's also a block-wise implementation of the mutex watershed (that uses Multicut to stitch block results).\n",
    "You can use it to segment larger volumes, where normal mutex watershed takes too long to run."
   ]
  },
  {
   "cell_type": "code",
   "execution_count": null,
   "metadata": {},
   "outputs": [],
   "source": [
    "# NOTE due to an issue with the current mws implementation, please\n",
    "# reload the affinities before running the blockwise segmentation\n",
    "block_shape = [10, 256, 256]\n",
    "blockwise_seg = mws.blockwise_mutex_watershed(affs, offsets, strides,\n",
    "                                              block_shape, randomize_strides=True)\n",
    "print(blockwise_seg.shape)"
   ]
  },
  {
   "cell_type": "code",
   "execution_count": null,
   "metadata": {},
   "outputs": [],
   "source": [
    "# visualize the results\n",
    "viewer = napari.Viewer()\n",
    "viewer.add_image(raw, name='raw')\n",
    "viewer.add_image(affs, name='affinities')\n",
    "viewer.add_labels(segmentation, name='mws-segmentation')\n",
    "viewer.add_labels(blockwise_seg, name='blockwise-segmentation')"
   ]
  }
 ],
 "metadata": {
  "kernelspec": {
   "display_name": "Python 3",
   "language": "python",
   "name": "python3"
  },
  "language_info": {
   "codemirror_mode": {
    "name": "ipython",
    "version": 3
   },
   "file_extension": ".py",
   "mimetype": "text/x-python",
   "name": "python",
   "nbconvert_exporter": "python",
   "pygments_lexer": "ipython3",
   "version": "3.7.10"
  }
 },
 "nbformat": 4,
 "nbformat_minor": 2
}
