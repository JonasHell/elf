{
 "cells": [
  {
   "cell_type": "markdown",
   "metadata": {},
   "source": [
    "# Pixelwise Segmentation\n",
    "\n",
    "Use the `elf.segmentation` module for instance segmentation from pixels based on pixel features.\n",
    "\n",
    "(Work in progress)"
   ]
  },
  {
   "cell_type": "markdown",
   "metadata": {},
   "source": [
    "## Preparation"
   ]
  },
  {
   "cell_type": "code",
   "execution_count": null,
   "metadata": {},
   "outputs": [],
   "source": [
    "%gui qt5 \n",
    "import numpy as np\n",
    "\n",
    "# import napari for data visualisation\n",
    "import napari\n",
    "\n",
    "# import the segmentation functionality from elf\n",
    "import elf.segmentation.multicut as mc\n",
    "import elf.segmentation.features as feats"
   ]
  },
  {
   "cell_type": "code",
   "execution_count": null,
   "metadata": {},
   "outputs": [],
   "source": [
    "from skimage.data import astronaut\n",
    "from skimage.color import rgb2lab\n",
    "from skimage.util import img_as_float\n",
    "\n",
    "# generate data for this example:\n",
    "image = astronaut()\n",
    "shape = image.shape[:-1]\n",
    "\n",
    "# lab color space feature\n",
    "image_features = rgb2lab(image).transpose((2, 0, 1))\n",
    "image_features -= image_features.min()\n",
    "image_features /= image_features.max()\n",
    "\n",
    "# concatenate normalized position as feature\n",
    "pos_x, pos_y = np.meshgrid(np.arange(shape[0]), np.arange(shape[1]))\n",
    "image_features = np.concatenate(\n",
    "    [\n",
    "        image_features,\n",
    "        (pos_x.astype('float32') / shape[0])[None],\n",
    "        (pos_y.astype('float32') / shape[1])[None]\n",
    "    ],\n",
    "    axis=0\n",
    ")"
   ]
  },
  {
   "cell_type": "code",
   "execution_count": null,
   "metadata": {},
   "outputs": [],
   "source": [
    "# visualize the input data with napari\n",
    "viewer = napari.Viewer()\n",
    "viewer.add_image(image)\n",
    "viewer.add_image(image_features)"
   ]
  },
  {
   "cell_type": "markdown",
   "metadata": {},
   "source": [
    "## Segmentation problem\n",
    "\n",
    "Set up the segmentation problem from pixels."
   ]
  },
  {
   "cell_type": "code",
   "execution_count": null,
   "metadata": {},
   "outputs": [],
   "source": [
    "# compute a grid graph for the image\n",
    "grid_graph = feats.compute_grid_graph(shape)\n",
    "\n",
    "# compute the edge features\n",
    "mode = 'cosine'  # mode determines the type of distance, either 'l1', 'l2' or 'cosine'\n",
    "edge_distances = feats.compute_grid_graph_features(grid_graph, image_features, mode)"
   ]
  },
  {
   "cell_type": "code",
   "execution_count": null,
   "metadata": {},
   "outputs": [],
   "source": [
    "print(edge_distances.min(), edge_distances.max())"
   ]
  },
  {
   "cell_type": "markdown",
   "metadata": {},
   "source": [
    "## Multicut"
   ]
  },
  {
   "cell_type": "code",
   "execution_count": null,
   "metadata": {},
   "outputs": [],
   "source": [
    "# edge features to costs for the multicut\n",
    "beta = .5  # boundary bias for more (> .5) or less (< .5) over-segmentation\n",
    "costs = mc.transform_probabilities_to_costs(edge_distances, beta=beta)\n",
    "print(costs.min(), costs.max())"
   ]
  },
  {
   "cell_type": "code",
   "execution_count": null,
   "metadata": {},
   "outputs": [],
   "source": [
    "# compute the multicut solution\n",
    "segmentation = mc.multicut_gaec(grid_graph, costs)\n",
    "segmentation = segmentation.reshape(shape)\n",
    "print(shape, segmentation.shape)"
   ]
  },
  {
   "cell_type": "code",
   "execution_count": null,
   "metadata": {},
   "outputs": [],
   "source": [
    "viewer = napari.Viewer()\n",
    "viewer.add_image(image)\n",
    "viewer.add_labels(segmentation)"
   ]
  },
  {
   "cell_type": "markdown",
   "metadata": {},
   "source": [
    "## Lifted Multicut\n",
    "\n",
    "TODO need long range grid graph features"
   ]
  },
  {
   "cell_type": "markdown",
   "metadata": {},
   "source": [
    "## Mutex Watershed\n",
    "\n",
    "TODO need long range grid graph features"
   ]
  },
  {
   "cell_type": "code",
   "execution_count": null,
   "metadata": {},
   "outputs": [],
   "source": []
  }
 ],
 "metadata": {
  "kernelspec": {
   "display_name": "Python 3",
   "language": "python",
   "name": "python3"
  },
  "language_info": {
   "codemirror_mode": {
    "name": "ipython",
    "version": 3
   },
   "file_extension": ".py",
   "mimetype": "text/x-python",
   "name": "python",
   "nbconvert_exporter": "python",
   "pygments_lexer": "ipython3",
   "version": "3.7.8"
  }
 },
 "nbformat": 4,
 "nbformat_minor": 2
}
