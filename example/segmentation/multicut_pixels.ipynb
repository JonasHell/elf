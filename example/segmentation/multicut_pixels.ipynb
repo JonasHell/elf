{
 "cells": [
  {
   "cell_type": "markdown",
   "metadata": {},
   "source": [
    "# Multicut\n",
    "\n",
    "Use the `elf.segmentation` module for instance segmentation from pixels based on node features.\n",
    "\n",
    "(Work in progress)"
   ]
  },
  {
   "cell_type": "markdown",
   "metadata": {},
   "source": [
    "## Preparation"
   ]
  },
  {
   "cell_type": "code",
   "execution_count": null,
   "metadata": {},
   "outputs": [],
   "source": [
    "%gui qt5 \n",
    "import numpy as np\n",
    "\n",
    "# import napari for data visualisation\n",
    "import napari\n",
    "\n",
    "# import the segmentation functionality from elf\n",
    "import elf.segmentation.multicut as mc\n",
    "import elf.segmentation.features as feats"
   ]
  },
  {
   "cell_type": "code",
   "execution_count": null,
   "metadata": {},
   "outputs": [],
   "source": [
    "# generate example data\n",
    "# TODO find real example data for this application\n",
    "shape = (256, 256)\n",
    "raw = np.random.rand(*shape)\n",
    "n_features = 12  # 12 features per pixel\n",
    "image_features = np.random.rand(*(n_features,) + shape)"
   ]
  },
  {
   "cell_type": "code",
   "execution_count": null,
   "metadata": {},
   "outputs": [],
   "source": [
    "# visualize the input data with napari\n",
    "viewer = napari.Viewer()\n",
    "viewer.add_image(raw)\n",
    "viewer.add_image(image_features)"
   ]
  },
  {
   "cell_type": "markdown",
   "metadata": {},
   "source": [
    "## Multicut from pixels\n",
    "\n",
    "Set up the multicut problem from pixels and solve it."
   ]
  },
  {
   "cell_type": "code",
   "execution_count": null,
   "metadata": {},
   "outputs": [],
   "source": [
    "# compute a grid graph for the image\n",
    "grid_graph = feats.compute_grid_graph(raw)\n",
    "\n",
    "# compute the edge features\n",
    "mode = 'cosine'  # mode determines the type of distance, either 'l1', 'l2' or 'cosine'\n",
    "edge_features = feats.compute_grid_graph_features(grid_graph, image_features, mode)\n",
    "\n",
    "# edge features to edge costs\n",
    "costs = mc.compute_edge_costs(edge_features)"
   ]
  },
  {
   "cell_type": "code",
   "execution_count": null,
   "metadata": {},
   "outputs": [],
   "source": [
    "# compute the multicut solution\n",
    "segmentation = mc.multicut_gaec(grid_graph, costs)\n",
    "segmentation = segmentation.reshape(shape)"
   ]
  },
  {
   "cell_type": "code",
   "execution_count": null,
   "metadata": {},
   "outputs": [],
   "source": [
    "viewer = napari.Viewer()\n",
    "viewer.add_image(raw)\n",
    "viewer.add_labels(segmentation)"
   ]
  }
 ],
 "metadata": {
  "kernelspec": {
   "display_name": "Python 3",
   "language": "python",
   "name": "python3"
  },
  "language_info": {
   "codemirror_mode": {
    "name": "ipython",
    "version": 3
   },
   "file_extension": ".py",
   "mimetype": "text/x-python",
   "name": "python",
   "nbconvert_exporter": "python",
   "pygments_lexer": "ipython3",
   "version": "3.7.8"
  }
 },
 "nbformat": 4,
 "nbformat_minor": 2
}
