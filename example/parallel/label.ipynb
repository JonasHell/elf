{
 "cells": [
  {
   "cell_type": "markdown",
   "metadata": {},
   "source": [
    "# Label / Connected Components\n",
    "\n",
    "Use the `label` function from `elf.parallel` to label images and volumes by applying connected components."
   ]
  },
  {
   "cell_type": "code",
   "execution_count": null,
   "metadata": {},
   "outputs": [],
   "source": [
    "import time\n",
    "\n",
    "# import napari for data visualisation\n",
    "import napari\n",
    "import numpy as np\n",
    "\n",
    "# import the relevant elf functionality\n",
    "from elf.parallel.label import label\n",
    "from elf.evaluation import rand_index\n",
    "\n",
    "# use skimage.label to verify the elf implementation\n",
    "from skimage.measure import label as label_reference\n",
    "\n",
    "# we use binary blobs from skimage as reference data\n",
    "from skimage.data import binary_blobs"
   ]
  },
  {
   "cell_type": "markdown",
   "metadata": {},
   "source": [
    "## 2D Data"
   ]
  },
  {
   "cell_type": "code",
   "execution_count": null,
   "metadata": {},
   "outputs": [],
   "source": [
    "# we first apply the connected components to a 2d image to check out the functionality\n",
    "blobs = binary_blobs(length=1024, n_dim=2, volume_fraction=0.25)"
   ]
  },
  {
   "cell_type": "code",
   "execution_count": null,
   "metadata": {},
   "outputs": [],
   "source": [
    "# compute the reference labeling with skimage\n",
    "# (note that elf currently only supports nearest neighbor connectivity, so we set the connectivity to 1)\n",
    "labeled_ref = label_reference(blobs, connectivity=1)"
   ]
  },
  {
   "cell_type": "code",
   "execution_count": null,
   "metadata": {},
   "outputs": [],
   "source": [
    "# compute the labeling with elf.parallel.\n",
    "\n",
    "# We need to allocate the output first for the elf function. \n",
    "# It is implemented like this because the function can be applied to large data (e.g. stored as hdf5 or zarr data)\n",
    "# without loading it into memory. So the output also needs to be allocated beforehand to support these use-cases.\n",
    "labeled_elf = np.zeros(blobs.shape, dtype=\"uint32\")\n",
    "\n",
    "# Set the block shape: the labeling is first computed for blocks of this size independently and in parallel.\n",
    "# The labeling result is then merged across the block boundaries.\n",
    "block_shape = (256, 256)\n",
    "labeled_elf = label(blobs, labeled_elf, block_shape=block_shape)"
   ]
  },
  {
   "cell_type": "code",
   "execution_count": null,
   "metadata": {},
   "outputs": [],
   "source": [
    "# check that the results agree via the rand index\n",
    "_, ri = rand_index(labeled_elf, labeled_ref)\n",
    "print(\"The rand index with the reference implementation is\", ri)\n",
    "print(\"(1. means complete agreement.)\")"
   ]
  },
  {
   "cell_type": "code",
   "execution_count": null,
   "metadata": {},
   "outputs": [],
   "source": [
    "# visualize the results\n",
    "viewer = napari.Viewer()\n",
    "viewer.add_image(blobs)\n",
    "viewer.add_labels(labeled_ref)\n",
    "viewer.add_labels(labeled_elf)\n",
    "napari.run()"
   ]
  },
  {
   "cell_type": "markdown",
   "metadata": {},
   "source": [
    "## 3D Data"
   ]
  },
  {
   "cell_type": "code",
   "execution_count": null,
   "metadata": {},
   "outputs": [],
   "source": [
    "from tqdm import trange\n",
    "# now we apply the connected components to a larger 3d volume to also compare the runtimes\n",
    "blobs = np.zeros((1024, 1024, 1024), dtype=\"bool\")  # computing the blobs in 3d takes too long!\n",
    "for z in trange(blobs.shape[0]):\n",
    "    blobs[z] = binary_blobs(length=1024, n_dim=2, volume_fraction=0.2)"
   ]
  },
  {
   "cell_type": "code",
   "execution_count": null,
   "metadata": {},
   "outputs": [],
   "source": [
    "# compute the labeling with elf. parallel\n",
    "labeled_elf = np.zeros(blobs.shape, dtype=\"uint32\")\n",
    "block_shape = (256, 256, 256)\n",
    "\n",
    "# this time we set the verbose flag to get progress bars when we apply the labeling\n",
    "t0 = time.time()\n",
    "labeled_elf = label(blobs, labeled_elf, block_shape=block_shape, verbose=True)\n",
    "print(\"Computing the labeling with elf.parallel took\", time.time() - t0, \"s\")"
   ]
  },
  {
   "cell_type": "code",
   "execution_count": null,
   "metadata": {},
   "outputs": [],
   "source": [
    "t0 = time.time()\n",
    "labeled_ref = label_reference(blobs, connectivity=1)\n",
    "print(\"Computing the labeling with skimage took\", time.time() - t0, \"s\")"
   ]
  },
  {
   "cell_type": "code",
   "execution_count": null,
   "metadata": {},
   "outputs": [],
   "source": [
    "# check that the results agree via the rand index\n",
    "_, ri = rand_index(labeled_elf, labeled_ref)\n",
    "print(\"The rand index with the reference implementation is\", ri)\n",
    "print(\"(1. means complete agreement.)\")"
   ]
  },
  {
   "cell_type": "code",
   "execution_count": null,
   "metadata": {},
   "outputs": [],
   "source": []
  }
 ],
 "metadata": {
  "kernelspec": {
   "display_name": "Python 3 (ipykernel)",
   "language": "python",
   "name": "python3"
  },
  "language_info": {
   "codemirror_mode": {
    "name": "ipython",
    "version": 3
   },
   "file_extension": ".py",
   "mimetype": "text/x-python",
   "name": "python",
   "nbconvert_exporter": "python",
   "pygments_lexer": "ipython3",
   "version": "3.9.7"
  }
 },
 "nbformat": 4,
 "nbformat_minor": 2
}
